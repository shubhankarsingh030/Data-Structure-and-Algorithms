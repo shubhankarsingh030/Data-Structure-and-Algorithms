{
 "cells": [
  {
   "cell_type": "markdown",
   "metadata": {},
   "source": [
    "sum of natural number"
   ]
  },
  {
   "cell_type": "code",
   "execution_count": 7,
   "metadata": {},
   "outputs": [
    {
     "name": "stdout",
     "output_type": "stream",
     "text": [
      "Sum is 55.0\n"
     ]
    }
   ],
   "source": [
    "n=int(input(\"Enter n:\"))\n",
    "sum= n*(n+1)/2\n",
    "print(\"Sum is \" + str(sum))"
   ]
  },
  {
   "cell_type": "markdown",
   "metadata": {},
   "source": [
    "Count Digit"
   ]
  },
  {
   "cell_type": "code",
   "execution_count": 2,
   "metadata": {},
   "outputs": [
    {
     "name": "stdout",
     "output_type": "stream",
     "text": [
      "Count of the Digit is 4\n"
     ]
    }
   ],
   "source": [
    "x = int(input(\"Enter x: \"))\n",
    "result = 0\n",
    "while x > 0:\n",
    "    x = x//10\n",
    "    result = result + 1\n",
    "print(\"Count of the Digit is \" + str(result))"
   ]
  },
  {
   "cell_type": "markdown",
   "metadata": {},
   "source": [
    "\"Palendrome No.\""
   ]
  },
  {
   "cell_type": "code",
   "execution_count": 3,
   "metadata": {},
   "outputs": [
    {
     "name": "stdout",
     "output_type": "stream",
     "text": [
      "False\n"
     ]
    }
   ],
   "source": [
    "def isPal(n):\n",
    "    rev = 0 #revers\n",
    "    temp = n #temporary\n",
    "    while temp != 0:\n",
    "        ld = temp % 10  #last digit\n",
    "        rev = rev * 10 + ld\n",
    "        temp = temp // 10\n",
    "    return rev == n\n",
    "if __name__ == '__main__':\n",
    "\n",
    "    number = 4553\n",
    "    print (isPal(number))"
   ]
  },
  {
   "cell_type": "markdown",
   "metadata": {},
   "source": [
    "Factorial of a number"
   ]
  },
  {
   "cell_type": "code",
   "execution_count": 11,
   "metadata": {},
   "outputs": [
    {
     "name": "stdout",
     "output_type": "stream",
     "text": [
      "120\n"
     ]
    }
   ],
   "source": [
    "def factorial(n):\n",
    "    result =1\n",
    "    for i in range (1, n +1):\n",
    "        result = result * i\n",
    "    return result\n",
    "if __name__ == '__main__':\n",
    "\n",
    "    number = 5\n",
    "    print(factorial(number))"
   ]
  },
  {
   "cell_type": "markdown",
   "metadata": {},
   "source": [
    "Trailing Zeros in Factorial\n"
   ]
  },
  {
   "cell_type": "code",
   "execution_count": 23,
   "metadata": {},
   "outputs": [
    {
     "name": "stdout",
     "output_type": "stream",
     "text": [
      "62\n"
     ]
    }
   ],
   "source": [
    "def counttrailingzeros(n):\n",
    "    \n",
    "    res = 0\n",
    "    while n >= 5 :\n",
    "        n //= 5\n",
    "        res += n \n",
    "    return res\n",
    "\n",
    "n = 251\n",
    "print(counttrailingzeros(n))"
   ]
  },
  {
   "cell_type": "markdown",
   "metadata": {},
   "source": [
    "GCD or HCF of two numbers\n"
   ]
  },
  {
   "cell_type": "code",
   "execution_count": 26,
   "metadata": {},
   "outputs": [
    {
     "name": "stdout",
     "output_type": "stream",
     "text": [
      "3\n"
     ]
    }
   ],
   "source": [
    "#Euclidean Algorithm Code\n",
    "\n",
    "def gcd(a,b):\n",
    "    \n",
    "    while a != b:\n",
    "        if a > b :\n",
    "            a = a - b\n",
    "        else :\n",
    "            b = b - a \n",
    "    return a\n",
    "\n",
    "a = 12\n",
    "b = 15\n",
    "print(gcd(a,b))"
   ]
  },
  {
   "cell_type": "code",
   "execution_count": 27,
   "metadata": {},
   "outputs": [
    {
     "name": "stdout",
     "output_type": "stream",
     "text": [
      "3\n"
     ]
    }
   ],
   "source": [
    "#Optimised Euclidean Algorithm Code\n",
    "def gcd(a,b):\n",
    "    \n",
    "    if b == 0 :\n",
    "        return a\n",
    "    return gcd(b, a % b)\n",
    "\n",
    "a = 12\n",
    "b = 15\n",
    "print(gcd(a,b))"
   ]
  },
  {
   "cell_type": "markdown",
   "metadata": {},
   "source": [
    "LCM of two numbers\n"
   ]
  },
  {
   "cell_type": "code",
   "execution_count": 29,
   "metadata": {},
   "outputs": [
    {
     "name": "stdout",
     "output_type": "stream",
     "text": [
      "60\n"
     ]
    }
   ],
   "source": [
    "#Naive Solution\n",
    "def lcm(a,b) :\n",
    "    \n",
    "    res = max(a,b)\n",
    "    while True :\n",
    "        if res % a == 0 and res % b == 0 :\n",
    "            return res\n",
    "        res += 1 \n",
    "    return res\n",
    "a = 12\n",
    "b = 15\n",
    "print(lcm(a,b))"
   ]
  },
  {
   "cell_type": "code",
   "execution_count": 31,
   "metadata": {},
   "outputs": [
    {
     "name": "stdout",
     "output_type": "stream",
     "text": [
      "45\n"
     ]
    }
   ],
   "source": [
    "#Efficient Solution\n",
    "def gcd(a,b):\n",
    "    \n",
    "    if b == 0 :\n",
    "        return a\n",
    "    return gcd(b, a % b)\n",
    "    \n",
    "def lcm(a,b) :\n",
    "    return a * b // gcd(a,b)\n",
    "\n",
    "a = 9\n",
    "b = 15\n",
    "print(lcm(a,b))"
   ]
  },
  {
   "cell_type": "code",
   "execution_count": null,
   "metadata": {},
   "outputs": [],
   "source": []
  }
 ],
 "metadata": {
  "kernelspec": {
   "display_name": "base",
   "language": "python",
   "name": "python3"
  },
  "language_info": {
   "codemirror_mode": {
    "name": "ipython",
    "version": 3
   },
   "file_extension": ".py",
   "mimetype": "text/x-python",
   "name": "python",
   "nbconvert_exporter": "python",
   "pygments_lexer": "ipython3",
   "version": "3.9.12"
  },
  "orig_nbformat": 4
 },
 "nbformat": 4,
 "nbformat_minor": 2
}
