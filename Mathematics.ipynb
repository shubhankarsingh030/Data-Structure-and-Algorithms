{
 "cells": [
  {
   "cell_type": "markdown",
   "metadata": {},
   "source": [
    "sum of natural number"
   ]
  },
  {
   "cell_type": "code",
   "execution_count": 7,
   "metadata": {},
   "outputs": [
    {
     "name": "stdout",
     "output_type": "stream",
     "text": [
      "Sum is 55.0\n"
     ]
    }
   ],
   "source": [
    "n=int(input(\"Enter n:\"))\n",
    "sum= n*(n+1)/2\n",
    "print(\"Sum is \" + str(sum))"
   ]
  },
  {
   "cell_type": "markdown",
   "metadata": {},
   "source": [
    "Count Digit"
   ]
  },
  {
   "cell_type": "code",
   "execution_count": 2,
   "metadata": {},
   "outputs": [
    {
     "name": "stdout",
     "output_type": "stream",
     "text": [
      "Count of the Digit is 4\n"
     ]
    }
   ],
   "source": [
    "x = int(input(\"Enter x: \"))\n",
    "result = 0\n",
    "while x > 0:\n",
    "    x = x//10\n",
    "    result = result + 1\n",
    "print(\"Count of the Digit is \" + str(result))"
   ]
  },
  {
   "cell_type": "markdown",
   "metadata": {},
   "source": [
    "\"Palendrome No.\""
   ]
  },
  {
   "cell_type": "code",
   "execution_count": 3,
   "metadata": {},
   "outputs": [
    {
     "name": "stdout",
     "output_type": "stream",
     "text": [
      "False\n"
     ]
    }
   ],
   "source": [
    "def isPal(n):\n",
    "    rev = 0 #revers\n",
    "    temp = n #temporary\n",
    "    while temp != 0:\n",
    "        ld = temp % 10  #last digit\n",
    "        rev = rev * 10 + ld\n",
    "        temp = temp // 10\n",
    "    return rev == n\n",
    "if __name__ == '__main__':\n",
    "\n",
    "    number = 4553\n",
    "    print (isPal(number))"
   ]
  },
  {
   "cell_type": "markdown",
   "metadata": {},
   "source": [
    "Factorial of a number"
   ]
  },
  {
   "cell_type": "code",
   "execution_count": 11,
   "metadata": {},
   "outputs": [
    {
     "name": "stdout",
     "output_type": "stream",
     "text": [
      "120\n"
     ]
    }
   ],
   "source": [
    "def factorial(n):\n",
    "    result =1\n",
    "    for i in range (1, n +1):\n",
    "        result = result * i\n",
    "    return result\n",
    "if __name__ == '__main__':\n",
    "\n",
    "    number = 5\n",
    "    print(factorial(number))"
   ]
  },
  {
   "cell_type": "markdown",
   "metadata": {},
   "source": [
    "Trailing Zeros in Factorial\n"
   ]
  },
  {
   "cell_type": "code",
   "execution_count": 23,
   "metadata": {},
   "outputs": [
    {
     "name": "stdout",
     "output_type": "stream",
     "text": [
      "62\n"
     ]
    }
   ],
   "source": [
    "def counttrailingzeros(n):\n",
    "    \n",
    "    res = 0\n",
    "    while n >= 5 :\n",
    "        n //= 5\n",
    "        res += n \n",
    "    return res\n",
    "\n",
    "n = 251\n",
    "print(counttrailingzeros(n))"
   ]
  },
  {
   "cell_type": "markdown",
   "metadata": {},
   "source": [
    "GCD or HCF of two numbers\n"
   ]
  },
  {
   "cell_type": "code",
   "execution_count": 26,
   "metadata": {},
   "outputs": [
    {
     "name": "stdout",
     "output_type": "stream",
     "text": [
      "3\n"
     ]
    }
   ],
   "source": [
    "#Euclidean Algorithm Code\n",
    "\n",
    "def gcd(a,b):\n",
    "    \n",
    "    while a != b:\n",
    "        if a > b :\n",
    "            a = a - b\n",
    "        else :\n",
    "            b = b - a \n",
    "    return a\n",
    "\n",
    "a = 12\n",
    "b = 15\n",
    "print(gcd(a,b))"
   ]
  },
  {
   "cell_type": "code",
   "execution_count": 27,
   "metadata": {},
   "outputs": [
    {
     "name": "stdout",
     "output_type": "stream",
     "text": [
      "3\n"
     ]
    }
   ],
   "source": [
    "#Optimised Euclidean Algorithm Code\n",
    "def gcd(a,b):\n",
    "    \n",
    "    if b == 0 :\n",
    "        return a\n",
    "    return gcd(b, a % b)\n",
    "\n",
    "a = 12\n",
    "b = 15\n",
    "print(gcd(a,b))"
   ]
  },
  {
   "cell_type": "markdown",
   "metadata": {},
   "source": [
    "LCM of two numbers\n"
   ]
  },
  {
   "cell_type": "code",
   "execution_count": 29,
   "metadata": {},
   "outputs": [
    {
     "name": "stdout",
     "output_type": "stream",
     "text": [
      "60\n"
     ]
    }
   ],
   "source": [
    "#Naive Solution\n",
    "def lcm(a,b) :\n",
    "    \n",
    "    res = max(a,b)\n",
    "    while True :\n",
    "        if res % a == 0 and res % b == 0 :\n",
    "            return res\n",
    "        res += 1 \n",
    "    return res\n",
    "a = 12\n",
    "b = 15\n",
    "print(lcm(a,b))"
   ]
  },
  {
   "cell_type": "code",
   "execution_count": 31,
   "metadata": {},
   "outputs": [
    {
     "name": "stdout",
     "output_type": "stream",
     "text": [
      "45\n"
     ]
    }
   ],
   "source": [
    "#Efficient Solution\n",
    "def gcd(a,b):\n",
    "    \n",
    "    if b == 0 :\n",
    "        return a\n",
    "    return gcd(b, a % b)\n",
    "    \n",
    "def lcm(a,b) :\n",
    "    return a * b // gcd(a,b)\n",
    "\n",
    "a = 9\n",
    "b = 15\n",
    "print(lcm(a,b))"
   ]
  },
  {
   "cell_type": "markdown",
   "metadata": {},
   "source": [
    "Check for Prime\n"
   ]
  },
  {
   "cell_type": "code",
   "execution_count": 1,
   "metadata": {},
   "outputs": [],
   "source": [
    "def isPrime(n):\n",
    "    if n== 1:\n",
    "        return False\n",
    "    for i in range(2,n):\n",
    "        if n % i == 0:\n",
    "            return False\n",
    "    return True\n"
   ]
  },
  {
   "cell_type": "code",
   "execution_count": 5,
   "metadata": {},
   "outputs": [
    {
     "name": "stdout",
     "output_type": "stream",
     "text": [
      "True\n"
     ]
    }
   ],
   "source": [
    "if __name__ == '__main__':\n",
    "    n = 101\n",
    "    print(\"True\") if isPrime(n) else print(\"False\")"
   ]
  },
  {
   "cell_type": "markdown",
   "metadata": {},
   "source": [
    "Prime Factorization"
   ]
  },
  {
   "cell_type": "code",
   "execution_count": 2,
   "metadata": {},
   "outputs": [
    {
     "name": "stdout",
     "output_type": "stream",
     "text": [
      "2\n",
      "2\n",
      "5\n",
      "5\n"
     ]
    }
   ],
   "source": [
    "def isPrime(x):\n",
    "    for i in range(2, x):\n",
    "\n",
    "        if x % i == 0:\n",
    "            return False\n",
    "\n",
    "    return True\n",
    "\n",
    "\n",
    "def printPFactor(n):\n",
    "    for i in range(2, n + 1):\n",
    "        if isPrime(i):  # checking prime for i\n",
    "            x = i\n",
    "            while n % x == 0:\n",
    "                print(i)\n",
    "                x = x * i  # next power of i\n",
    "\n",
    "\n",
    "n = int(input(\"Enter n:\\n\"))\n",
    "printPFactor(n)"
   ]
  },
  {
   "cell_type": "markdown",
   "metadata": {},
   "source": [
    "All Divisors of a Number\n"
   ]
  },
  {
   "cell_type": "code",
   "execution_count": 3,
   "metadata": {},
   "outputs": [
    {
     "name": "stdout",
     "output_type": "stream",
     "text": [
      "1\n",
      "3\n",
      "5\n",
      "15\n"
     ]
    }
   ],
   "source": [
    "def printDivisor(n):\n",
    "    for i in range(1, n+1):\n",
    "        if(n%i==0):\n",
    "            print(i)\n",
    "            \n",
    "            \n",
    "n=15\n",
    "printDivisor(n)"
   ]
  },
  {
   "cell_type": "code",
   "execution_count": 5,
   "metadata": {},
   "outputs": [
    {
     "name": "stdout",
     "output_type": "stream",
     "text": [
      "1\n",
      "52\n",
      "2\n",
      "26\n",
      "4\n",
      "13\n",
      "1\n",
      "2\n",
      "4\n",
      "13\n",
      "26\n",
      "52\n"
     ]
    }
   ],
   "source": [
    "#Prints all divisors but not necessarily in order\n",
    "def printDivisors1(n):\n",
    "    i=1 \n",
    "    while(i*i<=n):\n",
    "        if(n%i==0):\n",
    "            print(i)\n",
    "            if(i!=n/i):\n",
    "                print(int(n/i))\n",
    "        i+=1\n",
    "        \n",
    "#Prints all divisors in Sorted Order       \n",
    "def printDivisors2(n):\n",
    "    i=1 \n",
    "    while(i*i<n):\n",
    "        if(n%i==0):\n",
    "            print(i)\n",
    "        i+=1 \n",
    "    \n",
    "    while(i>=1):\n",
    "        if(n%i==0):\n",
    "            print(int(n/i))\n",
    "        i-=1\n",
    "            \n",
    "            \n",
    "n=52\n",
    "printDivisors1(n)\n",
    "printDivisors2(n)"
   ]
  },
  {
   "cell_type": "code",
   "execution_count": 6,
   "metadata": {},
   "outputs": [
    {
     "name": "stdout",
     "output_type": "stream",
     "text": [
      "The smallest natural number is: 7987\n"
     ]
    }
   ],
   "source": [
    "import math\n",
    "\n",
    "def smallest_number_with_remainder():\n",
    "    numbers = [20, 42, 76]\n",
    "    lcm = math.lcm(*numbers)\n",
    "    smallest_number = lcm + 7\n",
    "    return smallest_number\n",
    "\n",
    "result = smallest_number_with_remainder()\n",
    "print(f\"The smallest natural number is: {result}\")\n"
   ]
  },
  {
   "cell_type": "markdown",
   "metadata": {},
   "source": [
    "To Find The Unit Digit"
   ]
  },
  {
   "cell_type": "code",
   "execution_count": 1,
   "metadata": {},
   "outputs": [
    {
     "name": "stdout",
     "output_type": "stream",
     "text": [
      "Unit digit of (35)^87 + (93)^46: 4\n"
     ]
    }
   ],
   "source": [
    "def calculate_unit_digit(base, exponent):\n",
    "    if exponent == 0:\n",
    "        return 1\n",
    "\n",
    "    result = 1\n",
    "    while exponent > 0:\n",
    "        if exponent % 2 == 1:\n",
    "            result = (result * base) % 10\n",
    "        base = (base * base) % 10\n",
    "        exponent //= 2\n",
    "\n",
    "    return result\n",
    "\n",
    "def main():\n",
    "    base1 = 35\n",
    "    exponent1 = 87\n",
    "    base2 = 93\n",
    "    exponent2 = 46\n",
    "\n",
    "    unit_digit1 = calculate_unit_digit(base1, exponent1)\n",
    "    unit_digit2 = calculate_unit_digit(base2, exponent2)\n",
    "\n",
    "    sum_unit_digit = (unit_digit1 + unit_digit2) % 10\n",
    "\n",
    "    print(\"Unit digit of (35)^87 + (93)^46:\", sum_unit_digit)\n",
    "\n",
    "if __name__ == \"__main__\":\n",
    "    main()\n"
   ]
  },
  {
   "cell_type": "markdown",
   "metadata": {},
   "source": [
    "the largest 5-digit number that is exactly divisible by ?"
   ]
  },
  {
   "cell_type": "code",
   "execution_count": 2,
   "metadata": {},
   "outputs": [
    {
     "name": "stdout",
     "output_type": "stream",
     "text": [
      "Largest 5-digit number divisible by 39: 99996\n"
     ]
    }
   ],
   "source": [
    "def largest_divisible_by_39():\n",
    "    largest_5_digit_number = 99999\n",
    "    divisor = 39\n",
    "\n",
    "    while largest_5_digit_number % divisor != 0:\n",
    "        largest_5_digit_number -= 1\n",
    "\n",
    "    return largest_5_digit_number\n",
    "\n",
    "result = largest_divisible_by_39()\n",
    "print(\"Largest 5-digit number divisible by 39:\", result)\n"
   ]
  },
  {
   "cell_type": "markdown",
   "metadata": {},
   "source": [
    "To determine if a number is divisible by 3"
   ]
  },
  {
   "cell_type": "code",
   "execution_count": 9,
   "metadata": {},
   "outputs": [
    {
     "name": "stdout",
     "output_type": "stream",
     "text": [
      "8952 is divisible by 3\n"
     ]
    }
   ],
   "source": [
    "def is_divisible_by_3(number):\n",
    "    digit_sum = sum(int(digit) for digit in str(number))\n",
    "    return digit_sum % 3 == 0\n",
    "\n",
    "number_to_check = 8952\n",
    "if is_divisible_by_3(number_to_check):\n",
    "    print(number_to_check, \"is divisible by 3\")\n",
    "else:\n",
    "    print(number_to_check, \"is not divisible by 3\")\n"
   ]
  },
  {
   "cell_type": "code",
   "execution_count": null,
   "metadata": {},
   "outputs": [],
   "source": []
  }
 ],
 "metadata": {
  "kernelspec": {
   "display_name": "base",
   "language": "python",
   "name": "python3"
  },
  "language_info": {
   "codemirror_mode": {
    "name": "ipython",
    "version": 3
   },
   "file_extension": ".py",
   "mimetype": "text/x-python",
   "name": "python",
   "nbconvert_exporter": "python",
   "pygments_lexer": "ipython3",
   "version": "3.9.12"
  },
  "orig_nbformat": 4
 },
 "nbformat": 4,
 "nbformat_minor": 2
}
